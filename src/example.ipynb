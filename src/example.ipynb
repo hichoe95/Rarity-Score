{
 "cells": [
  {
   "cell_type": "code",
   "execution_count": null,
   "metadata": {},
   "outputs": [],
   "source": [
    "from rarity_score import *\n",
    "import numpy as np\n",
    "\n",
    "feature_dim = 2048\n",
    "num_samples = 100\n",
    "nearest_k = 3\n",
    "\n",
    "real_features = np.random.normal(size=(num_samples, feature_dim))\n",
    "fake_features = np.random.normal(size=(num_samples, feature_dim))\n",
    "\n",
    "\n",
    "manifold = MANIFOLD(real_features=real_features, fake_features=fake_features)\n",
    "\n",
    "score, score_index = manifold.rarity(k=nearest_k)\n",
    "\n",
    "print(score[score_index])"
   ]
  }
 ],
 "metadata": {
  "kernelspec": {
   "display_name": "Python 3",
   "language": "python",
   "name": "python3"
  },
  "language_info": {
   "codemirror_mode": {
    "name": "ipython",
    "version": 3
   },
   "file_extension": ".py",
   "mimetype": "text/x-python",
   "name": "python",
   "nbconvert_exporter": "python",
   "pygments_lexer": "ipython3",
   "version": "3.6.9"
  }
 },
 "nbformat": 4,
 "nbformat_minor": 4
}
